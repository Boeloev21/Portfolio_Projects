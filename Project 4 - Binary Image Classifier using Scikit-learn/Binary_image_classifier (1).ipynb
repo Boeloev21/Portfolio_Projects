{
 "cells":[
  {
   "cell_type":"markdown",
   "source":[
    "# Binary Image Classifier using Scikit-Learn"
   ],
   "attachments":{},
   "metadata":{
    "datalore":{
     "node_id":"D3LnxaeDfGuUstjFot7v6E",
     "type":"MD",
     "hide_input_from_viewers":false,
     "hide_output_from_viewers":false,
     "report_properties":{
      "rowId":"CKaK7YavKA6XUatKUpnMlI"
     }
    }
   }
  },
  {
   "cell_type":"markdown",
   "source":[
    "During the 2020 Covid-19 pandemic many countries declared it mandatory to wear facial masks when moving about in public spaces. This binary classifier aims to classify a .jpg image to determine whether a person is wearing a face mask or not."
   ],
   "attachments":{},
   "metadata":{
    "datalore":{
     "node_id":"Rzsi2p2xNOFxL5glvttQq9",
     "type":"MD",
     "hide_input_from_viewers":false,
     "hide_output_from_viewers":false,
     "report_properties":{
      "rowId":"AMN3FDjb9wj8kVpdJ4FT2V"
     }
    }
   }
  },
  {
   "cell_type":"markdown",
   "source":[
    "### Import the necessary libraries"
   ],
   "attachments":{},
   "metadata":{
    "datalore":{
     "node_id":"PF29aWmWXqAlwtQWBAjsks",
     "type":"MD",
     "hide_input_from_viewers":false,
     "hide_output_from_viewers":false,
     "report_properties":{
      "rowId":"e6sfETPXwC7WL20FTwmaQm"
     }
    }
   }
  },
  {
   "cell_type":"code",
   "source":[
    "import os\n",
    "import numpy as np\n",
    "import cv2\n",
    "from sklearn.model_selection import train_test_split"
   ],
   "execution_count":9,
   "outputs":[],
   "metadata":{
    "datalore":{
     "node_id":"5QavX6SESrCa69ITyQVRwR",
     "type":"CODE",
     "hide_input_from_viewers":false,
     "hide_output_from_viewers":false,
     "report_properties":{
      "rowId":"oIGuN46buo6djpVfuUmIOM"
     }
    }
   }
  },
  {
   "cell_type":"markdown",
   "source":[
    "### Define a function to load the raw data from a target folder and load the images"
   ],
   "attachments":{},
   "metadata":{
    "datalore":{
     "node_id":"XzEhlYnlx3GQRjZlUFOhHX",
     "type":"MD",
     "hide_input_from_viewers":false,
     "hide_output_from_viewers":false,
     "report_properties":{
      "rowId":"8tx2LEXOyvvFGXasr6az9K"
     }
    }
   }
  },
  {
   "cell_type":"code",
   "source":[
    "# Function to load images from a folder\n",
    "def load_images_from_folder(folder):\n",
    "    images = []\n",
    "    for filename in os.listdir(folder):\n",
    "        img_path = os.path.join(folder, filename)\n",
    "        try:\n",
    "            img = cv2.imread(img_path)\n",
    "            if img is None:\n",
    "                print(f\"Warning: Unable to read image {img_path}. Skipping.\")\n",
    "                continue\n",
    "            img = cv2.resize(img, (128, 128))  # Resize to a smaller size\n",
    "            images.append(img)\n",
    "        except Exception as e:\n",
    "            print(f\"Error: Could not process image {img_path}. Error: {e}\")\n",
    "            continue\n",
    "    return images\n",
    "\n",
    "# Load images\n",
    "mask_images_folder = \"\/data\/notebook_files\/Face Masks\/Masks\"\n",
    "no_mask_images_folder = \"\/data\/notebook_files\/Face Masks\/NotMasks\"\n",
    "\n",
    "mask_images = load_images_from_folder(mask_images_folder)\n",
    "no_mask_images = load_images_from_folder(no_mask_images_folder)\n",
    "\n",
    "print(f\"Loaded {len(mask_images)} mask images.\")\n",
    "print(f\"Loaded {len(no_mask_images)} no mask images.\")"
   ],
   "execution_count":10,
   "outputs":[
    {
     "name":"stdout",
     "text":[
      "Loaded 797 mask images.\n",
      "Loaded 56 no mask images.\n"
     ],
     "output_type":"stream"
    }
   ],
   "metadata":{
    "datalore":{
     "node_id":"8wSdnhHJncFpG6YPoVV7CD",
     "type":"CODE",
     "hide_input_from_viewers":false,
     "hide_output_from_viewers":false,
     "report_properties":{
      "rowId":"Egs0bTrCjJiguxK4DYOS2z"
     }
    }
   }
  },
  {
   "cell_type":"markdown",
   "source":[
    "### Create labels to classify the images as mask or no_mask"
   ],
   "attachments":{},
   "metadata":{
    "datalore":{
     "node_id":"MDXbXKRdrlOZtNYW2ZJEUX",
     "type":"MD",
     "hide_input_from_viewers":false,
     "hide_output_from_viewers":false,
     "report_properties":{
      "rowId":"a69BATprbgfLDjhOFidTIH"
     }
    }
   }
  },
  {
   "cell_type":"code",
   "source":[
    "# Create labels\n",
    "mask_labels = [1] * len(mask_images)  # 1 for mask\n",
    "no_mask_labels = [0] * len(no_mask_images)  # 0 for no mask\n",
    "\n",
    "# Combine images and labels\n",
    "try:\n",
    "    X = np.array(mask_images + no_mask_images)\n",
    "    y = np.array(mask_labels + no_mask_labels)\n",
    "    if X is None or y is None:\n",
    "        print(\"Warning: No mask or no mask images were loaded.\")\n",
    "except Exception as e:\n",
    "    print(f\"Warning: Could not process mask images. Error: {e}\")\n",
    "\n",
    "print(\"Image masks created successfully\")"
   ],
   "execution_count":11,
   "outputs":[
    {
     "name":"stdout",
     "text":[
      "Image masks created successfully\n"
     ],
     "output_type":"stream"
    }
   ],
   "metadata":{
    "datalore":{
     "node_id":"nB2Nxzbhig6lrN42he3vX6",
     "type":"CODE",
     "hide_input_from_viewers":false,
     "hide_output_from_viewers":false,
     "report_properties":{
      "rowId":"TKepllhz5Awb7SaSjXmd7A"
     }
    }
   }
  },
  {
   "cell_type":"markdown",
   "source":[
    "### Split the data into a training and testing set using scikit-learn's test_train_split function (use an 80-20 split)"
   ],
   "attachments":{},
   "metadata":{
    "datalore":{
     "node_id":"9G6wNgEI7Hw6oUy1ajTk67",
     "type":"MD",
     "hide_input_from_viewers":false,
     "hide_output_from_viewers":false,
     "report_properties":{
      "rowId":"hwUwez5AUhi2jvEdMiJz3J"
     }
    }
   }
  },
  {
   "cell_type":"code",
   "source":[
    "# Split the dataset into training and testing sets\n",
    "X_train, X_test, y_train, y_test = train_test_split(X, y, test_size=0.2, random_state=42)\n",
    "\n",
    "print(f\"Train images: {len(X_train)}\")\n",
    "print(f\"Test images: {len(X_test)}\")"
   ],
   "execution_count":12,
   "outputs":[
    {
     "name":"stdout",
     "text":[
      "Train images: 682\n",
      "Test images: 171\n"
     ],
     "output_type":"stream"
    }
   ],
   "metadata":{
    "datalore":{
     "node_id":"aaOgjsqRWkPyjfrcoAqEDN",
     "type":"CODE",
     "hide_input_from_viewers":false,
     "hide_output_from_viewers":false,
     "report_properties":{
      "rowId":"S1dtsjqy2cIwyuLLDvxLKZ"
     }
    }
   }
  },
  {
   "cell_type":"markdown",
   "source":[
    "### Define a function to extract HOG features from the imported images"
   ],
   "attachments":{},
   "metadata":{
    "datalore":{
     "node_id":"9bCkSPD1HEBYw1TgOCarye",
     "type":"MD",
     "hide_input_from_viewers":false,
     "hide_output_from_viewers":false,
     "report_properties":{
      "rowId":"LqsTYVC4wvNH8ipsIuk2Ez"
     }
    }
   }
  },
  {
   "cell_type":"markdown",
   "source":[
    "Histogram of Oriented Gradients (HOG) is a feature descriptor used in computer vision and image processing for object detection. HOG features are used to capture the shape and structure of objects within an image. \n",
    "\n",
    "How HOG Features Work\n",
    "\n",
    "1. Gradient Computation:\n",
    "\n",
    "    The first step in computing HOG features is to calculate the gradients of the image. The gradient of an image at a particular pixel is a vector that points in the direction of the greatest rate of increase in intensity and whose magnitude corresponds to the rate of change in that direction.\n",
    "    Typically, gradients are calculated using the Sobel operator, which applies convolution filters to the image to obtain gradients in both the horizontal (x) and vertical (y) directions.\n",
    "\n",
    "2. Orientation Binning:\n",
    "\n",
    "    The gradient orientations (or angles) and magnitudes are then used to create a histogram of gradients. The image is divided into small spatial regions called cells (e.g., 8x8 pixels).\n",
    "    Within each cell, the gradient orientations are quantized into a fixed number of bins (e.g., 9 bins for orientations ranging from 0 to 180 degrees). The gradient magnitudes are used to vote into the orientation bins.\n",
    "\n",
    "3. Block Normalization:\n",
    "\n",
    "    To account for changes in illumination and contrast, the histograms are normalized. This is done by grouping adjacent cells into larger blocks (e.g., 2x2 cells), and then normalizing the gradient values within each block.\n",
    "    The normalized histograms from all the blocks are concatenated to form the final feature vector for the image.\n",
    "\n",
    "4. Feature Vector:\n",
    "\n",
    "    The concatenated histograms from all the blocks form the HOG feature descriptor for the image. This feature vector captures the local shape information and the distribution of gradient orientations."
   ],
   "attachments":{},
   "metadata":{
    "datalore":{
     "node_id":"0TepMg2eVGUf7a9VzJbxHI",
     "type":"MD",
     "hide_input_from_viewers":false,
     "hide_output_from_viewers":false,
     "report_properties":{
      "rowId":"ciq9JNkFB9nZtVgDl7L812"
     }
    }
   }
  },
  {
   "cell_type":"code",
   "source":[
    "# Function to extract HOG features using OpenCV\n",
    "def extract_hog_features(images):\n",
    "    hog = cv2.HOGDescriptor()\n",
    "    hog_features = []\n",
    "    for i, img in enumerate(images):\n",
    "        try:\n",
    "            gray_img = cv2.cvtColor(img, cv2.COLOR_BGR2GRAY)  # Convert to grayscale\n",
    "            features = hog.compute(gray_img)\n",
    "            if features is None:\n",
    "                print(f\"Warning: HOG feature computation failed for image index {i}. Skipping.\")\n",
    "                continue\n",
    "            hog_features.append(features.flatten())\n",
    "        except Exception as e:\n",
    "            print(f\"Error: Could not process image index {i}. Error: {e}\")\n",
    "            continue\n",
    "    return np.array(hog_features)\n",
    "\n",
    "# Extract HOG features from the training and testing datasets\n",
    "try:\n",
    "    X_train_features = extract_hog_features(X_train)\n",
    "    X_test_features = extract_hog_features(X_test)\n",
    "except Exception as e:\n",
    "    print(f\"Error: Failed to extract HOG features from the dataset. Error: {e}\")\n",
    "\n",
    "# Example: Check the shape of the extracted features\n",
    "print(f\"Extracted HOG features for training set: {X_train_features.shape}\")\n",
    "print(f\"Extracted HOG features for testing set: {X_test_features.shape}\")"
   ],
   "execution_count":13,
   "outputs":[
    {
     "name":"stdout",
     "text":[
      "Extracted HOG features for training set: (682, 34020)\n",
      "Extracted HOG features for testing set: (171, 34020)\n"
     ],
     "output_type":"stream"
    }
   ],
   "metadata":{
    "datalore":{
     "node_id":"LWLCMVasbTbgbHnco6uPcl",
     "type":"CODE",
     "hide_input_from_viewers":false,
     "hide_output_from_viewers":false,
     "report_properties":{
      "rowId":"UCK8TeJlMueS6ZVg9h7s7W"
     }
    }
   }
  },
  {
   "cell_type":"markdown",
   "source":[
    "## Train and fit a Naive Bays model to classify the images and perform cross-validation using GridsearchCV"
   ],
   "attachments":{},
   "metadata":{
    "datalore":{
     "node_id":"NO0rmtcpJPRjGBugTae5qN",
     "type":"MD",
     "hide_input_from_viewers":true,
     "hide_output_from_viewers":true
    }
   }
  },
  {
   "cell_type":"code",
   "source":[
    "from sklearn.model_selection import GridSearchCV\n",
    "from sklearn.naive_bayes import MultinomialNB\n",
    "\n",
    "# Define the Multinomial Naive Bayes model\n",
    "nb_model = MultinomialNB()\n",
    "\n",
    "# Define the parameter grid to search using GridsearchCV\n",
    "param_grid = {\n",
    "    'alpha': [0.001, 0.01, 0.1, 1, 10, 100],  # Add other values as needed\n",
    "}\n",
    "\n",
    "# Perform GridSearchCV for hyperparameter tuning\n",
    "grid_search = GridSearchCV(nb_model, param_grid, cv=5, n_jobs=-1)\n",
    "grid_search.fit(X_train_features, y_train)\n",
    "\n",
    "# Print the best parameters found by GridSearchCV\n",
    "print(\"Best Parameters:\", grid_search.best_params_)\n",
    "\n",
    "# Get the best Naive Bayes model\n",
    "best_nb_model = grid_search.best_estimator_\n",
    "\n",
    "# Evaluate the best model on the test set\n",
    "accuracy = best_nb_model.score(X_test_features, y_test)\n",
    "print(\"Accuracy on Test Set:\", accuracy)"
   ],
   "execution_count":14,
   "outputs":[
    {
     "name":"stdout",
     "text":[
      "Best Parameters: {'alpha': 100}\n",
      "Accuracy on Test Set: 0.8128654970760234\n"
     ],
     "output_type":"stream"
    }
   ],
   "metadata":{
    "datalore":{
     "node_id":"UIVsWvnJ3fFSKpwJGFeUgn",
     "type":"CODE",
     "hide_input_from_viewers":true,
     "hide_output_from_viewers":true
    }
   }
  },
  {
   "cell_type":"markdown",
   "source":[
    "## Train and fit a Stochastic Gradient Descent model to classify the images and perform cross-validation using GridsearchCV"
   ],
   "attachments":{},
   "metadata":{
    "datalore":{
     "node_id":"9uOTBQc3luq9J9NgfrkoKh",
     "type":"MD",
     "hide_input_from_viewers":false,
     "hide_output_from_viewers":false,
     "report_properties":{
      "rowId":"EybeVcVrYyq5GNpfIyAQI3"
     }
    }
   }
  },
  {
   "cell_type":"code",
   "source":[
    "from sklearn.model_selection import GridSearchCV\n",
    "from sklearn.linear_model import SGDClassifier\n",
    "\n",
    "# Define the SGD model\n",
    "sgd_model = SGDClassifier(loss='hinge', max_iter=1000)\n",
    "\n",
    "# Define the parameter grid to search using GridsearchCV\n",
    "param_grid = {\n",
    "    'alpha': [0.0001, 0.001, 0.01, 0.1],\n",
    "    'penalty': ['l2', 'l1', 'elasticnet'],\n",
    "    'learning_rate': ['constant', 'optimal', 'invscaling', 'adaptive'],\n",
    "    'eta0': [0.001, 0.01, 0.1]  # Initial learning rate must be > 0\n",
    "}\n",
    "\n",
    "# Perform GridSearchCV for hyperparameter tuning\n",
    "grid_search = GridSearchCV(sgd_model, param_grid, cv=5, n_jobs=-1)\n",
    "grid_search.fit(X_train_features, y_train)\n",
    "\n",
    "# Print the best parameters found by GridSearchCV\n",
    "print(\"Best Parameters:\", grid_search.best_params_)\n",
    "\n",
    "# Get the best SGD model\n",
    "best_sgd_model = grid_search.best_estimator_\n",
    "\n",
    "# Evaluate the best model on the test set\n",
    "accuracy = best_sgd_model.score(X_test_features, y_test)\n",
    "print(\"Accuracy on Test Set:\", accuracy)\n"
   ],
   "execution_count":15,
   "outputs":[
    {
     "name":"stdout",
     "text":[
      "Best Parameters: {'alpha': 0.01, 'eta0': 0.001, 'learning_rate': 'adaptive', 'penalty': 'elasticnet'}\n",
      "Accuracy on Test Set: 0.9473684210526315\n"
     ],
     "output_type":"stream"
    }
   ],
   "metadata":{
    "datalore":{
     "node_id":"I7bW2mafDDSOVvipBSLqSf",
     "type":"CODE",
     "hide_input_from_viewers":false,
     "hide_output_from_viewers":false,
     "report_properties":{
      "rowId":"OeK1ICm8XeCvWRVzkJr67r"
     }
    }
   }
  },
  {
   "cell_type":"markdown",
   "source":[
    "## Train and fit a Logistic Regression model to classify the images and perform cross-validation using GridsearchCV"
   ],
   "attachments":{},
   "metadata":{
    "datalore":{
     "node_id":"8C43DS89fkt7YZtCooKJcr",
     "type":"MD",
     "hide_input_from_viewers":false,
     "hide_output_from_viewers":false,
     "report_properties":{
      "rowId":"B8H4OUmhvnYKoDJnqZZJZY"
     }
    }
   }
  },
  {
   "cell_type":"code",
   "source":[
    "from sklearn.linear_model import LogisticRegression\n",
    "\n",
    "# Define the logistic regression model\n",
    "logistic_model = LogisticRegression()\n",
    "\n",
    "# Define the parameter grid to search using GridsearchCV\n",
    "param_grid = {\n",
    "    'C': [0.001, 0.01, 0.1, 1, 10],  # Inverse of regularization strength\n",
    "    'penalty': ['l1', 'l2'],          # Regularization penalty\n",
    "    'solver': ['liblinear', 'saga']  # Solver for optimization\n",
    "}\n",
    "\n",
    "# Perform GridSearchCV for hyperparameter tuning\n",
    "grid_search = GridSearchCV(logistic_model, param_grid, cv=5, n_jobs=-1)\n",
    "grid_search.fit(X_train_features, y_train)\n",
    "\n",
    "# Print the best parameters found by GridSearchCV\n",
    "print(\"Best Parameters:\", grid_search.best_params_)\n",
    "\n",
    "# Get the best logistic regression model\n",
    "best_logistic_model = grid_search.best_estimator_\n",
    "\n",
    "# Evaluate the best model on the test set\n",
    "accuracy = best_logistic_model.score(X_test_features, y_test)\n",
    "print(\"Accuracy on Test Set:\", accuracy)"
   ],
   "execution_count":16,
   "outputs":[
    {
     "name":"stdout",
     "text":[
      "Best Parameters: {'C': 1, 'penalty': 'l2', 'solver': 'liblinear'}\n",
      "Accuracy on Test Set: 0.935672514619883\n"
     ],
     "output_type":"stream"
    }
   ],
   "metadata":{
    "datalore":{
     "node_id":"HyrObWMuoR0hEtBLzffcnq",
     "type":"CODE",
     "hide_input_from_viewers":false,
     "hide_output_from_viewers":false,
     "report_properties":{
      "rowId":"XZKJ6KydjAhCerv4CmIqCL"
     }
    }
   }
  },
  {
   "cell_type":"markdown",
   "source":[
    "## Train and fit a SVM model to classify the images and perform cross-validation using GridsearchCV"
   ],
   "attachments":{},
   "metadata":{
    "datalore":{
     "node_id":"PGhTOpTRlb8cpUotdnplLf",
     "type":"MD",
     "hide_input_from_viewers":false,
     "hide_output_from_viewers":false,
     "report_properties":{
      "rowId":"b6cGCNTBbI2F4QPHa9bOwl"
     }
    }
   }
  },
  {
   "cell_type":"code",
   "source":[
    " from sklearn.svm import SVC\n",
    " \n",
    " # Define the SVM model\n",
    " svm_model = SVC()\n",
    " \n",
    " # Define the parameter grid to search using GridsearchCV\n",
    " param_grid = {\n",
    "     'C': [0.1, 1, 10],\n",
    "     'kernel': ['linear', 'rbf', 'poly'],\n",
    "     'gamma': ['scale', 'auto']\n",
    " }\n",
    " \n",
    " # Perform GridSearchCV for hyperparameter tuning\n",
    " grid_search = GridSearchCV(svm_model, param_grid, cv=5, n_jobs=-1)\n",
    " grid_search.fit(X_train_features, y_train)\n",
    " \n",
    " # Print the best parameters found by GridSearchCV\n",
    " print(\"Best Parameters:\", grid_search.best_params_)\n",
    " \n",
    " # Get the best SVM model\n",
    " best_svm_model = grid_search.best_estimator_\n",
    " \n",
    " # Evaluate the best model on the test set\n",
    " accuracy = best_svm_model.score(X_test_features, y_test)\n",
    " print(\"Accuracy on Test Set:\", accuracy)"
   ],
   "execution_count":18,
   "outputs":[
    {
     "name":"stdout",
     "text":[
      "Best Parameters: {'C': 0.1, 'gamma': 'scale', 'kernel': 'linear'}\n",
      "Accuracy on Test Set: 0.9298245614035088\n"
     ],
     "output_type":"stream"
    }
   ],
   "metadata":{
    "datalore":{
     "node_id":"i9NgHxfT5yRgcLCznu3cuI",
     "type":"CODE",
     "hide_input_from_viewers":false,
     "hide_output_from_viewers":false,
     "report_properties":{
      "rowId":"GLR6hDokV48ztxTGy72Ii1"
     }
    }
   }
  },
  {
   "cell_type":"markdown",
   "source":[
    "## Compare the accuracy of the different trained models to determine the best performing model"
   ],
   "attachments":{},
   "metadata":{
    "datalore":{
     "node_id":"sipibjhkM1iZuDB0dISgUB",
     "type":"MD",
     "hide_input_from_viewers":false,
     "hide_output_from_viewers":false,
     "report_properties":{
      "rowId":"atjDTm2U1SSdbz8J7KpmsV"
     }
    }
   }
  },
  {
   "cell_type":"code",
   "source":[
    "import matplotlib.pyplot as plt\n",
    "\n",
    "# 1. Evaluate Models on Test Set\n",
    "nb_accuracy = best_nb_model.score(X_test_features, y_test)\n",
    "svm_accuracy = best_svm_model.score(X_test_features, y_test)\n",
    "sgd_accuracy = best_sgd_model.score(X_test_features, y_test)\n",
    "logistic_accuracy = best_logistic_model.score(X_test_features, y_test)\n",
    "\n",
    "# 2. Compare Accuracy\n",
    "print(\"Accuracy on Test Set:\")\n",
    "print(\"Naive Bays:\", nb_accuracy)\n",
    "print(\"SVM:\", svm_accuracy)\n",
    "print(\"SGD:\", sgd_accuracy)\n",
    "print(\"Logistic Regression:\", logistic_accuracy)\n",
    "\n",
    "# Determine the best performing model\n",
    "models = ['Naive Bays', 'SVM', 'SGD', 'Logistic Regression']\n",
    "accuracies = [nb_accuracy, svm_accuracy, sgd_accuracy, logistic_accuracy]\n",
    "\n",
    "best_model_index = accuracies.index(max(accuracies))\n",
    "best_model_name = models[best_model_index]\n",
    "\n",
    "print(\"Best performing model:\", best_model_name, \"with accuracy:\", max(accuracies))\n",
    "\n",
    "# 3. Plot Histogram\n",
    "plt.figure(figsize=(10, 6))\n",
    "plt.bar(models, accuracies, color=['blue', 'orange', 'green', 'red'])\n",
    "plt.xlabel('Models')\n",
    "plt.ylabel('Accuracy')\n",
    "plt.title('Accuracy Comparison of Models')\n",
    "plt.ylim(0, 1)\n",
    "plt.grid(axis='y', linestyle='--', alpha=0.7)\n",
    "plt.xticks(rotation=45)\n",
    "plt.tight_layout()\n",
    "plt.show()"
   ],
   "execution_count":19,
   "outputs":[
    {
     "name":"stdout",
     "text":[
      "Accuracy on Test Set:\n",
      "Naive Bays: 0.8128654970760234\n",
      "SVM: 0.9298245614035088\n",
      "SGD: 0.9473684210526315\n",
      "Logistic Regression: 0.935672514619883\n",
      "Best performing model: SGD with accuracy: 0.9473684210526315\n"
     ],
     "output_type":"stream"
    },
    {
     "data":{
      "image\/png":"[encoded data removed]"
     },
     "metadata":{
      "image\/png":{}
     },
     "output_type":"display_data"
    }
   ],
   "metadata":{
    "datalore":{
     "node_id":"VSY9ZWwKp3ea2tBjNCbWFF",
     "type":"CODE",
     "hide_input_from_viewers":false,
     "hide_output_from_viewers":false,
     "report_properties":{
      "rowId":"am3sjgoyeV2wzFtAP8Aem9"
     }
    }
   }
  },
  {
   "cell_type":"code",
   "source":[
    "import joblib\n",
    "\n",
    "trained_model = best_sgd_model\n",
    "\n",
    "# Define paths to save the model and scaler\n",
    "MODEL_PATH = 'binary_image_classifier.pkl'\n",
    "\n",
    "# Save the pre-trained model\n",
    "joblib.dump(trained_model, MODEL_PATH)\n",
    "print(f\"Model saved to {MODEL_PATH}\")\n",
    "\n",
    "# Load the model and scaler to ensure they were saved correctly\n",
    "loaded_model = joblib.load(MODEL_PATH)\n",
    "print(f\"Model loaded successfully from {MODEL_PATH}\")\n"
   ],
   "execution_count":20,
   "outputs":[
    {
     "name":"stdout",
     "text":[
      "Model saved to binary_image_classifier.pkl\n",
      "Model loaded successfully from binary_image_classifier.pkl\n"
     ],
     "output_type":"stream"
    }
   ],
   "metadata":{
    "datalore":{
     "node_id":"ZxtVXzX4xOYCRuduZB5hwc",
     "type":"CODE",
     "hide_input_from_viewers":true,
     "hide_output_from_viewers":true
    }
   }
  }
 ],
 "metadata":{
  "kernelspec":{
   "display_name":"Python",
   "language":"python",
   "name":"python"
  },
  "datalore":{
   "computation_mode":"JUPYTER",
   "package_manager":"pip",
   "base_environment":"default",
   "packages":[],
   "report_row_ids":[
    "CKaK7YavKA6XUatKUpnMlI",
    "AMN3FDjb9wj8kVpdJ4FT2V",
    "e6sfETPXwC7WL20FTwmaQm",
    "oIGuN46buo6djpVfuUmIOM",
    "8tx2LEXOyvvFGXasr6az9K",
    "Egs0bTrCjJiguxK4DYOS2z",
    "a69BATprbgfLDjhOFidTIH",
    "TKepllhz5Awb7SaSjXmd7A",
    "hwUwez5AUhi2jvEdMiJz3J",
    "S1dtsjqy2cIwyuLLDvxLKZ",
    "LqsTYVC4wvNH8ipsIuk2Ez",
    "ciq9JNkFB9nZtVgDl7L812",
    "UCK8TeJlMueS6ZVg9h7s7W",
    "EybeVcVrYyq5GNpfIyAQI3",
    "OeK1ICm8XeCvWRVzkJr67r",
    "B8H4OUmhvnYKoDJnqZZJZY",
    "XZKJ6KydjAhCerv4CmIqCL",
    "zfx8LiMpGfcz3dwz8BpGk7",
    "YYd6Qvdxez2nor6M94zVcc",
    "b6cGCNTBbI2F4QPHa9bOwl",
    "GLR6hDokV48ztxTGy72Ii1",
    "atjDTm2U1SSdbz8J7KpmsV",
    "am3sjgoyeV2wzFtAP8Aem9"
   ],
   "version":3
  }
 },
 "nbformat":4,
 "nbformat_minor":4
}